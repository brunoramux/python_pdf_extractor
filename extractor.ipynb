{
 "cells": [
  {
   "cell_type": "code",
   "execution_count": null,
   "metadata": {},
   "outputs": [],
   "source": [
    "import PyPDF2"
   ]
  },
  {
   "cell_type": "code",
   "execution_count": null,
   "metadata": {},
   "outputs": [],
   "source": [
    "pdf_file = open(\"sample_pdf.pdf\", \"rb\")\n",
    "dados_pdf = PyPDF2.PdfReader(pdf_file)"
   ]
  },
  {
   "cell_type": "code",
   "execution_count": null,
   "metadata": {},
   "outputs": [],
   "source": [
    "print(len(dados_pdf.pages))"
   ]
  },
  {
   "cell_type": "code",
   "execution_count": null,
   "metadata": {},
   "outputs": [],
   "source": [
    "text_from_pdf = dados_pdf.pages[0].extract_text()"
   ]
  },
  {
   "cell_type": "code",
   "execution_count": null,
   "metadata": {},
   "outputs": [],
   "source": [
    "type(text_from_pdf)"
   ]
  },
  {
   "cell_type": "code",
   "execution_count": null,
   "metadata": {},
   "outputs": [],
   "source": [
    "pdf_file = open(\"sample_pdf2.pdf\", \"rb\")\n",
    "dados_pdf2 = PyPDF2.PdfReader(pdf_file)"
   ]
  },
  {
   "cell_type": "code",
   "execution_count": null,
   "metadata": {},
   "outputs": [],
   "source": [
    "merge = PyPDF2.PdfMerger()\n",
    "merge.append(dados_pdf)\n",
    "merge.append(dados_pdf2)\n",
    "\n",
    "merge.write(\"pdf_merge.pdf\")"
   ]
  },
  {
   "cell_type": "code",
   "execution_count": null,
   "metadata": {},
   "outputs": [],
   "source": [
    "!pipenv install PyMuPDF transformers torch"
   ]
  },
  {
   "cell_type": "code",
   "execution_count": null,
   "metadata": {},
   "outputs": [],
   "source": [
    "import fitz  # PyMuPDF\n",
    "from transformers import pipeline"
   ]
  },
  {
   "cell_type": "code",
   "execution_count": null,
   "metadata": {},
   "outputs": [],
   "source": [
    "# You can choose from a variety of models available on the Hugging Face Model Hub, such as t5-small, t5-base, t5-large, t5-3b, t5-11b, google/pegasus-xsum, and others.\n",
    "def read_pdf(file_path):\n",
    "    # Open the PDF file\n",
    "    pdf_document = fitz.open(file_path)\n",
    "    content = \"\"\n",
    "\n",
    "    # Iterate through each page\n",
    "    for page_num in range(pdf_document.page_count):\n",
    "        page = pdf_document.load_page(page_num)\n",
    "        content += page.get_text()\n",
    "\n",
    "    return content\n",
    "\n",
    "def summarize_text(text):\n",
    "    summarizer = pipeline(\"summarization\", model=\"google/pegasus-xsum\")\n",
    "    # Summarization might have a limit on input length; handle large texts by summarizing in chunks\n",
    "    max_length = 1024\n",
    "    chunks = [text[i:i+max_length] for i in range(0, len(text), max_length)]\n",
    "    summaries = [summarizer(chunk)[0]['summary_text'] for chunk in chunks]\n",
    "    return \" \".join(summaries)"
   ]
  },
  {
   "cell_type": "code",
   "execution_count": null,
   "metadata": {},
   "outputs": [],
   "source": [
    "pdf_file_path = 'sample_pdf.pdf'  # Change this to the path of your PDF file\n",
    "pdf_content = read_pdf(pdf_file_path)\n",
    "print(pdf_content)"
   ]
  },
  {
   "cell_type": "code",
   "execution_count": null,
   "metadata": {},
   "outputs": [],
   "source": [
    "pdf_summary = summarize_text(pdf_content)"
   ]
  },
  {
   "cell_type": "code",
   "execution_count": null,
   "metadata": {},
   "outputs": [],
   "source": [
    "print(pdf_summary)"
   ]
  },
  {
   "cell_type": "code",
   "execution_count": null,
   "metadata": {},
   "outputs": [],
   "source": [
    "# Análise de sentimento\n",
    "classifier = pipeline(\"sentiment-analysis\")\n",
    "result = classifier(\"I love using the transformers library!\")\n",
    "print(result)"
   ]
  },
  {
   "cell_type": "code",
   "execution_count": null,
   "metadata": {},
   "outputs": [],
   "source": [
    "# Analise e identificação de entidades\n",
    "ner = pipeline(\"ner\")\n",
    "result = ner(\"Hugging Face Inc. is a company based in New York City.\")\n",
    "print(result)"
   ]
  },
  {
   "cell_type": "code",
   "execution_count": null,
   "metadata": {},
   "outputs": [],
   "source": [
    "# Respondendo perguntas\n",
    "qa = pipeline(\"question-answering\")\n",
    "result = qa(question=\"Where is Hugging Face based?\", context=\"Hugging Face Inc. is a company based in New York City.\")\n",
    "print(result)"
   ]
  },
  {
   "cell_type": "code",
   "execution_count": null,
   "metadata": {},
   "outputs": [],
   "source": [
    "# Gerando de texto\n",
    "generator = pipeline(\"text-generation\", model=\"gpt2\")\n",
    "result = generator(\"Donald Trump is,\")\n",
    "print(result)"
   ]
  },
  {
   "cell_type": "code",
   "execution_count": null,
   "metadata": {},
   "outputs": [],
   "source": [
    "# Traduzir texto\n",
    "translator = pipeline(\"translation_en_to_es\")\n",
    "result = translator(\"Hello, how are you?\")\n",
    "print(result)"
   ]
  },
  {
   "cell_type": "code",
   "execution_count": null,
   "metadata": {},
   "outputs": [],
   "source": [
    "from transformers import MBartForConditionalGeneration, MBart50TokenizerFast\n",
    "import sentencepiece\n",
    "\n",
    "def translate_with_mbart(text, src_lang, tgt_lang):\n",
    "    model_name = \"facebook/mbart-large-50-many-to-many-mmt\"\n",
    "    tokenizer = MBart50TokenizerFast.from_pretrained(model_name)\n",
    "    model = MBartForConditionalGeneration.from_pretrained(model_name)\n",
    "\n",
    "    tokenizer.src_lang = src_lang\n",
    "    encoded_text = tokenizer(text, return_tensors=\"pt\")\n",
    "    generated_tokens = model.generate(**encoded_text, forced_bos_token_id=tokenizer.lang_code_to_id[tgt_lang])\n",
    "    translated_text = tokenizer.batch_decode(generated_tokens, skip_special_tokens=True)\n",
    "\n",
    "    return translated_text[0]\n",
    "\n",
    "text = \"Hello, how are you?\"\n",
    "src_lang = \"en_XX\"  # Source language: English\n",
    "tgt_lang = \"pt_XX\"  # Target language: French\n",
    "\n",
    "translated_text = translate_with_mbart(text, src_lang, tgt_lang)\n",
    "print(f\"Translated text: {translated_text}\")"
   ]
  },
  {
   "cell_type": "code",
   "execution_count": null,
   "metadata": {},
   "outputs": [],
   "source": []
  }
 ],
 "metadata": {
  "kernelspec": {
   "display_name": "python_pdf_extractor-v9_0eWkn",
   "language": "python",
   "name": "python3"
  },
  "language_info": {
   "codemirror_mode": {
    "name": "ipython",
    "version": 3
   },
   "file_extension": ".py",
   "mimetype": "text/x-python",
   "name": "python",
   "nbconvert_exporter": "python",
   "pygments_lexer": "ipython3",
   "version": "3.11.7"
  }
 },
 "nbformat": 4,
 "nbformat_minor": 2
}
